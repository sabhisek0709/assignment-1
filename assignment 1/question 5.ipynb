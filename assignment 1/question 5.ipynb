{
 "cells": [
  {
   "cell_type": "code",
   "execution_count": 1,
   "id": "e67d6147-533f-439a-b9a5-de4c8972a9db",
   "metadata": {},
   "outputs": [
    {
     "name": "stdin",
     "output_type": "stream",
     "text": [
      "Enter number A:  10\n",
      "Enter number B:  5\n"
     ]
    },
    {
     "name": "stdout",
     "output_type": "stream",
     "text": [
      "5 divides 2.0 1 times.\n"
     ]
    }
   ],
   "source": [
    "# User inputs\n",
    "A = int(input(\"Enter number A: \"))\n",
    "B = int(input(\"Enter number B: \"))\n",
    "\n",
    "# Initialize variables\n",
    "count = 0\n",
    "\n",
    "# Check if A is divisible by B and count the number of times it can be divided\n",
    "while A % B == 0:\n",
    "    A = A / B\n",
    "    count += 1\n",
    "\n",
    "# Output results\n",
    "if count > 0:\n",
    "    print(f\"{B} divides {A} {count} times.\")\n",
    "else:\n",
    "    print(f\"{B} does not divide {A} evenly.\")"
   ]
  },
  {
   "cell_type": "code",
   "execution_count": null,
   "id": "7e0dda81-b1e8-44fe-9f11-4373dbc9ce56",
   "metadata": {},
   "outputs": [],
   "source": []
  }
 ],
 "metadata": {
  "kernelspec": {
   "display_name": "Python 3 (ipykernel)",
   "language": "python",
   "name": "python3"
  },
  "language_info": {
   "codemirror_mode": {
    "name": "ipython",
    "version": 3
   },
   "file_extension": ".py",
   "mimetype": "text/x-python",
   "name": "python",
   "nbconvert_exporter": "python",
   "pygments_lexer": "ipython3",
   "version": "3.10.8"
  }
 },
 "nbformat": 4,
 "nbformat_minor": 5
}
