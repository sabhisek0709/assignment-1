{
 "cells": [
  {
   "cell_type": "code",
   "execution_count": 1,
   "id": "e6fcf108-665f-49d4-81ca-9b936fd32e4c",
   "metadata": {},
   "outputs": [],
   "source": [
    "a = \"abhisek sahoo\""
   ]
  },
  {
   "cell_type": "code",
   "execution_count": 2,
   "id": "6d38be6d-f7cb-449b-8fbf-3f08eb14513f",
   "metadata": {},
   "outputs": [],
   "source": [
    "b = [1,4,34,45.56,\"abhi\"]"
   ]
  },
  {
   "cell_type": "code",
   "execution_count": 3,
   "id": "341df8ef-901d-4468-bb27-36cd4ca96762",
   "metadata": {},
   "outputs": [],
   "source": [
    "c = 34.47"
   ]
  },
  {
   "cell_type": "code",
   "execution_count": 4,
   "id": "9a263a2a-df0d-419b-b077-cd0bb0902b22",
   "metadata": {},
   "outputs": [],
   "source": [
    "t = (23,'abhi',34.56,[2,'as',4.5])"
   ]
  },
  {
   "cell_type": "code",
   "execution_count": null,
   "id": "c6d54574-1475-459a-a9fd-a0b5d560417a",
   "metadata": {},
   "outputs": [],
   "source": []
  }
 ],
 "metadata": {
  "kernelspec": {
   "display_name": "Python 3 (ipykernel)",
   "language": "python",
   "name": "python3"
  },
  "language_info": {
   "codemirror_mode": {
    "name": "ipython",
    "version": 3
   },
   "file_extension": ".py",
   "mimetype": "text/x-python",
   "name": "python",
   "nbconvert_exporter": "python",
   "pygments_lexer": "ipython3",
   "version": "3.10.8"
  }
 },
 "nbformat": 4,
 "nbformat_minor": 5
}
