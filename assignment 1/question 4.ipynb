{
 "cells": [
  {
   "cell_type": "code",
   "execution_count": 2,
   "id": "5b121021-8227-43fd-831c-a7d47c7f362d",
   "metadata": {},
   "outputs": [
    {
     "name": "stdout",
     "output_type": "stream",
     "text": [
      "2 <class 'int'>\n",
      "4 <class 'int'>\n",
      "56 <class 'int'>\n",
      "45.56 <class 'float'>\n",
      "abhi <class 'str'>\n",
      "89.4 <class 'float'>\n",
      "str <class 'str'>\n",
      "True <class 'bool'>\n",
      "False <class 'bool'>\n",
      "5 <class 'int'>\n"
     ]
    }
   ],
   "source": [
    "s = [2,4,56,45.56,'abhi',89.4,'str',True,False,5]\n",
    "for i in s:\n",
    "    print (i,type(i))\n",
    "    "
   ]
  },
  {
   "cell_type": "code",
   "execution_count": null,
   "id": "b11bd09f-d091-49be-9353-22b9087d42f2",
   "metadata": {},
   "outputs": [],
   "source": []
  }
 ],
 "metadata": {
  "kernelspec": {
   "display_name": "Python 3 (ipykernel)",
   "language": "python",
   "name": "python3"
  },
  "language_info": {
   "codemirror_mode": {
    "name": "ipython",
    "version": 3
   },
   "file_extension": ".py",
   "mimetype": "text/x-python",
   "name": "python",
   "nbconvert_exporter": "python",
   "pygments_lexer": "ipython3",
   "version": "3.10.8"
  }
 },
 "nbformat": 4,
 "nbformat_minor": 5
}
