{
 "cells": [
  {
   "cell_type": "code",
   "execution_count": 1,
   "id": "1adcda5f-d102-48c6-8e96-9154fcea56eb",
   "metadata": {},
   "outputs": [],
   "source": [
    "a = \"abhisek\""
   ]
  },
  {
   "cell_type": "code",
   "execution_count": 2,
   "id": "e752d68e-594a-436d-a5a4-174ec59ad72e",
   "metadata": {},
   "outputs": [],
   "source": [
    "k = [1,45,'avi']"
   ]
  },
  {
   "cell_type": "code",
   "execution_count": 3,
   "id": "75e43d1b-a90e-490e-826b-e0731c2214c9",
   "metadata": {},
   "outputs": [
    {
     "data": {
      "text/plain": [
       "'b'"
      ]
     },
     "execution_count": 3,
     "metadata": {},
     "output_type": "execute_result"
    }
   ],
   "source": [
    "# we can access a element of a immutable object\n",
    "a[1]"
   ]
  },
  {
   "cell_type": "code",
   "execution_count": 4,
   "id": "a444fc58-ae8a-465b-86d6-cf7e0839b52b",
   "metadata": {},
   "outputs": [
    {
     "data": {
      "text/plain": [
       "45"
      ]
     },
     "execution_count": 4,
     "metadata": {},
     "output_type": "execute_result"
    }
   ],
   "source": [
    "# we can access the element of a mutable object\n",
    "k[1]"
   ]
  },
  {
   "cell_type": "code",
   "execution_count": 5,
   "id": "04707dca-f5d9-4668-b56e-5c0cc76be033",
   "metadata": {},
   "outputs": [
    {
     "ename": "TypeError",
     "evalue": "'str' object does not support item assignment",
     "output_type": "error",
     "traceback": [
      "\u001b[0;31m---------------------------------------------------------------------------\u001b[0m",
      "\u001b[0;31mTypeError\u001b[0m                                 Traceback (most recent call last)",
      "Cell \u001b[0;32mIn[5], line 1\u001b[0m\n\u001b[0;32m----> 1\u001b[0m \u001b[43ma\u001b[49m\u001b[43m[\u001b[49m\u001b[38;5;241;43m1\u001b[39;49m\u001b[43m]\u001b[49m \u001b[38;5;241m=\u001b[39m \u001b[38;5;124m'\u001b[39m\u001b[38;5;124ms\u001b[39m\u001b[38;5;124m'\u001b[39m\n",
      "\u001b[0;31mTypeError\u001b[0m: 'str' object does not support item assignment"
     ]
    }
   ],
   "source": [
    "# we can not change the element in a immutable object\n",
    "# string is a immutable object\n",
    "a[1] = 's'"
   ]
  },
  {
   "cell_type": "code",
   "execution_count": 6,
   "id": "f4aabe75-876d-48f3-9d59-1e08b93c432b",
   "metadata": {},
   "outputs": [],
   "source": [
    "# we can change the element in a immutable object\n",
    "# list is a immutable object\n",
    "k[1] = 78"
   ]
  },
  {
   "cell_type": "code",
   "execution_count": 7,
   "id": "19e03fb1-aeb4-4a14-af06-00aa6f421be0",
   "metadata": {},
   "outputs": [
    {
     "data": {
      "text/plain": [
       "[1, 78, 'avi']"
      ]
     },
     "execution_count": 7,
     "metadata": {},
     "output_type": "execute_result"
    }
   ],
   "source": [
    "k"
   ]
  },
  {
   "cell_type": "code",
   "execution_count": null,
   "id": "e1faa8be-4ef9-435a-b89f-aad7b4346984",
   "metadata": {},
   "outputs": [],
   "source": []
  }
 ],
 "metadata": {
  "kernelspec": {
   "display_name": "Python 3 (ipykernel)",
   "language": "python",
   "name": "python3"
  },
  "language_info": {
   "codemirror_mode": {
    "name": "ipython",
    "version": 3
   },
   "file_extension": ".py",
   "mimetype": "text/x-python",
   "name": "python",
   "nbconvert_exporter": "python",
   "pygments_lexer": "ipython3",
   "version": "3.10.8"
  }
 },
 "nbformat": 4,
 "nbformat_minor": 5
}
